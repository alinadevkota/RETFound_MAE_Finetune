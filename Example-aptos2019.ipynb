{
 "cells": [
  {
   "cell_type": "markdown",
   "id": "b2e049c7-d5db-45e6-b651-2601c02f4b7d",
   "metadata": {},
   "source": [
    "## Data organisation example - APTOS2019"
   ]
  },
  {
   "cell_type": "code",
   "execution_count": 7,
   "id": "16b65740-249b-4eef-9298-1db01f72d050",
   "metadata": {},
   "outputs": [],
   "source": [
    "import os\n",
    "import shutil\n",
    "import pandas as pd\n",
    "from sklearn.model_selection import train_test_split"
   ]
  },
  {
   "cell_type": "markdown",
   "id": "b12bad44",
   "metadata": {},
   "source": []
  },
  {
   "cell_type": "markdown",
   "id": "ff0bf26e-c657-49de-8761-89d5a94c390d",
   "metadata": {},
   "source": [
    "### Split val set from train data\n",
    "- Download dataset from [official website](https://ieee-dataport.org/open-access/indian-diabetic-retinopathy-image-dataset-idrid) \n",
    "- Images can be processed if necessary, with any processing tools such as [AutoMorph](https://github.com/rmaphoh/AutoMorph)"
   ]
  },
  {
   "cell_type": "code",
   "execution_count": 8,
   "id": "4bc1cb67-0adf-4640-8640-d0740a39366b",
   "metadata": {},
   "outputs": [],
   "source": [
    "list_ = pd.read_csv('resources/aptos2019-blindness-detection/train.csv')"
   ]
  },
  {
   "cell_type": "code",
   "execution_count": 9,
   "id": "afb1a20f",
   "metadata": {},
   "outputs": [
    {
     "data": {
      "text/html": [
       "<div>\n",
       "<style scoped>\n",
       "    .dataframe tbody tr th:only-of-type {\n",
       "        vertical-align: middle;\n",
       "    }\n",
       "\n",
       "    .dataframe tbody tr th {\n",
       "        vertical-align: top;\n",
       "    }\n",
       "\n",
       "    .dataframe thead th {\n",
       "        text-align: right;\n",
       "    }\n",
       "</style>\n",
       "<table border=\"1\" class=\"dataframe\">\n",
       "  <thead>\n",
       "    <tr style=\"text-align: right;\">\n",
       "      <th></th>\n",
       "      <th>id_code</th>\n",
       "      <th>diagnosis</th>\n",
       "    </tr>\n",
       "  </thead>\n",
       "  <tbody>\n",
       "    <tr>\n",
       "      <th>0</th>\n",
       "      <td>000c1434d8d7</td>\n",
       "      <td>2</td>\n",
       "    </tr>\n",
       "    <tr>\n",
       "      <th>1</th>\n",
       "      <td>001639a390f0</td>\n",
       "      <td>4</td>\n",
       "    </tr>\n",
       "    <tr>\n",
       "      <th>2</th>\n",
       "      <td>0024cdab0c1e</td>\n",
       "      <td>1</td>\n",
       "    </tr>\n",
       "    <tr>\n",
       "      <th>3</th>\n",
       "      <td>002c21358ce6</td>\n",
       "      <td>0</td>\n",
       "    </tr>\n",
       "    <tr>\n",
       "      <th>4</th>\n",
       "      <td>005b95c28852</td>\n",
       "      <td>0</td>\n",
       "    </tr>\n",
       "    <tr>\n",
       "      <th>...</th>\n",
       "      <td>...</td>\n",
       "      <td>...</td>\n",
       "    </tr>\n",
       "    <tr>\n",
       "      <th>3657</th>\n",
       "      <td>ffa47f6a7bf4</td>\n",
       "      <td>2</td>\n",
       "    </tr>\n",
       "    <tr>\n",
       "      <th>3658</th>\n",
       "      <td>ffc04fed30e6</td>\n",
       "      <td>0</td>\n",
       "    </tr>\n",
       "    <tr>\n",
       "      <th>3659</th>\n",
       "      <td>ffcf7b45f213</td>\n",
       "      <td>2</td>\n",
       "    </tr>\n",
       "    <tr>\n",
       "      <th>3660</th>\n",
       "      <td>ffd97f8cd5aa</td>\n",
       "      <td>0</td>\n",
       "    </tr>\n",
       "    <tr>\n",
       "      <th>3661</th>\n",
       "      <td>ffec9a18a3ce</td>\n",
       "      <td>2</td>\n",
       "    </tr>\n",
       "  </tbody>\n",
       "</table>\n",
       "<p>3662 rows × 2 columns</p>\n",
       "</div>"
      ],
      "text/plain": [
       "           id_code  diagnosis\n",
       "0     000c1434d8d7          2\n",
       "1     001639a390f0          4\n",
       "2     0024cdab0c1e          1\n",
       "3     002c21358ce6          0\n",
       "4     005b95c28852          0\n",
       "...            ...        ...\n",
       "3657  ffa47f6a7bf4          2\n",
       "3658  ffc04fed30e6          0\n",
       "3659  ffcf7b45f213          2\n",
       "3660  ffd97f8cd5aa          0\n",
       "3661  ffec9a18a3ce          2\n",
       "\n",
       "[3662 rows x 2 columns]"
      ]
     },
     "execution_count": 9,
     "metadata": {},
     "output_type": "execute_result"
    }
   ],
   "source": [
    "list_"
   ]
  },
  {
   "cell_type": "code",
   "execution_count": 10,
   "id": "b85fc0d1-2049-4550-bdec-76240b1bc759",
   "metadata": {},
   "outputs": [],
   "source": [
    "diagnosis0 = list_.loc[list_['diagnosis']==0, 'id_code']\n",
    "diagnosis1 = list_.loc[list_['diagnosis']==1, 'id_code']\n",
    "diagnosis2 = list_.loc[list_['diagnosis']==2, 'id_code']\n",
    "diagnosis3 = list_.loc[list_['diagnosis']==3, 'id_code']\n",
    "diagnosis4 = list_.loc[list_['diagnosis']==4, 'id_code']"
   ]
  },
  {
   "cell_type": "code",
   "execution_count": 11,
   "id": "d0617e35-8b91-45d3-90d5-d5e5bf2d7762",
   "metadata": {},
   "outputs": [],
   "source": [
    "diagnosis0_train, diagnosis0_val = train_test_split(diagnosis0, test_size=0.2,random_state=1)\n",
    "diagnosis1_train, diagnosis1_val = train_test_split(diagnosis1, test_size=0.2,random_state=1)\n",
    "diagnosis2_train, diagnosis2_val = train_test_split(diagnosis2, test_size=0.2,random_state=1)\n",
    "diagnosis3_train, diagnosis3_val = train_test_split(diagnosis3, test_size=0.2,random_state=1)\n",
    "diagnosis4_train, diagnosis4_val = train_test_split(diagnosis4, test_size=0.2,random_state=1)"
   ]
  },
  {
   "cell_type": "code",
   "execution_count": 12,
   "id": "1a03ce5c",
   "metadata": {},
   "outputs": [],
   "source": [
    "def create_dir(directory):\n",
    "    if not os.path.exists(directory):\n",
    "        os.makedirs(directory)"
   ]
  },
  {
   "cell_type": "code",
   "execution_count": 15,
   "id": "f30ce03f-5730-4e68-b6c5-8e1b6b9167f8",
   "metadata": {},
   "outputs": [],
   "source": [
    "create_dir('./aptos2019/train/diagnosis0/')\n",
    "create_dir('./aptos2019/train/diagnosis1/')\n",
    "create_dir('./aptos2019/train/diagnosis2/')\n",
    "create_dir('./aptos2019/train/diagnosis3/')\n",
    "create_dir('./aptos2019/train/diagnosis4/')\n",
    "\n",
    "train_images_root = './resources/aptos2019-blindness-detection/train_images/'\n",
    "\n",
    "for i in diagnosis0_train:\n",
    "    shutil.copy(f'{train_images_root}/{i}.png', './aptos2019/train/diagnosis0/{}.png'.format(i))\n",
    "    \n",
    "for i in diagnosis1_train:\n",
    "    shutil.copy(f'{train_images_root}/{i}.png', './aptos2019/train/diagnosis1/{}.png'.format(i))\n",
    "    \n",
    "for i in diagnosis2_train:\n",
    "    shutil.copy(f'{train_images_root}/{i}.png', './aptos2019/train/diagnosis2/{}.png'.format(i))\n",
    "    \n",
    "for i in diagnosis3_train:\n",
    "    shutil.copy(f'{train_images_root}/{i}.png', './aptos2019/train/diagnosis3/{}.png'.format(i))\n",
    "    \n",
    "for i in diagnosis4_train:\n",
    "    shutil.copy(f'{train_images_root}/{i}.png', './aptos2019/train/diagnosis4/{}.png'.format(i))"
   ]
  },
  {
   "cell_type": "code",
   "execution_count": 16,
   "id": "196d1845-3e5e-4d38-82e5-66057a693962",
   "metadata": {},
   "outputs": [],
   "source": [
    "create_dir('./aptos2019/val/diagnosis0/')\n",
    "create_dir('./aptos2019/val/diagnosis1/')\n",
    "create_dir('./aptos2019/val/diagnosis2/')\n",
    "create_dir('./aptos2019/val/diagnosis3/')\n",
    "create_dir('./aptos2019/val/diagnosis4/')\n",
    "\n",
    "for i in diagnosis0_val:\n",
    "    shutil.copy(f'{train_images_root}/{i}.png', './aptos2019/val/diagnosis0/{}.png'.format(i))\n",
    "    \n",
    "for i in diagnosis1_val:\n",
    "    shutil.copy(f'{train_images_root}/{i}.png', './aptos2019/val/diagnosis1/{}.png'.format(i))\n",
    "    \n",
    "for i in diagnosis2_val:\n",
    "    shutil.copy(f'{train_images_root}/{i}.png', './aptos2019/val/diagnosis2/{}.png'.format(i))\n",
    "    \n",
    "for i in diagnosis3_val:\n",
    "    shutil.copy(f'{train_images_root}/{i}.png', './aptos2019/val/diagnosis3/{}.png'.format(i))\n",
    "    \n",
    "for i in diagnosis4_val:\n",
    "    shutil.copy(f'{train_images_root}/{i}.png', './aptos2019/val/diagnosis4/{}.png'.format(i))"
   ]
  },
  {
   "cell_type": "markdown",
   "id": "faf285f4-9079-49ca-9d99-8f3f5718afbf",
   "metadata": {},
   "source": [
    "### Organise test set"
   ]
  },
  {
   "cell_type": "code",
   "execution_count": 18,
   "id": "118d15d0-9e94-4f6e-855d-dfa3796b24d2",
   "metadata": {},
   "outputs": [],
   "source": [
    "list_test = pd.read_csv('resources/aptos2019-blindness-detection/test.csv')"
   ]
  },
  {
   "cell_type": "code",
   "execution_count": 19,
   "id": "89a098fe-0aad-41d4-ab09-476ff0354c77",
   "metadata": {},
   "outputs": [],
   "source": [
    "# noDR_test = list_test.loc[list_test['Retinopathy grade']==0, 'Image name']\n",
    "# mildDR_test = list_test.loc[list_test['Retinopathy grade']==1, 'Image name']\n",
    "# moderateDR_test = list_test.loc[list_test['Retinopathy grade']==2, 'Image name']\n",
    "# severeDR_test = list_test.loc[list_test['Retinopathy grade']==3, 'Image name']\n",
    "# proDR_test = list_test.loc[list_test['Retinopathy grade']==4, 'Image name']\n",
    "\n",
    "diagnosis0_test = list_test.loc[list_['diagnosis']==0, 'id_code']\n",
    "diagnosis1_test = list_test.loc[list_['diagnosis']==1, 'id_code']\n",
    "diagnosis2_test = list_test.loc[list_['diagnosis']==2, 'id_code']\n",
    "diagnosis3_test = list_test.loc[list_['diagnosis']==3, 'id_code']\n",
    "diagnosis4_test = list_test.loc[list_['diagnosis']==4, 'id_code']"
   ]
  },
  {
   "cell_type": "code",
   "execution_count": 20,
   "id": "33a207c1-1fef-4e79-8ff2-84329062495b",
   "metadata": {},
   "outputs": [],
   "source": [
    "create_dir('./aptos2019/test/diagnosis0/')\n",
    "create_dir('./aptos2019/test/diagnosis1/')\n",
    "create_dir('./aptos2019/test/diagnosis2/')\n",
    "create_dir('./aptos2019/test/diagnosis3/')\n",
    "create_dir('./aptos2019/test/diagnosis4/')\n",
    "\n",
    "test_images_root = './resources/aptos2019-blindness-detection/test_images/'\n",
    "\n",
    "for i in diagnosis0_test:\n",
    "    shutil.copy(f'{test_images_root}/{i}.png', './aptos2019/test/diagnosis0/{}.png'.format(i))\n",
    "    \n",
    "for i in diagnosis1_test:\n",
    "    shutil.copy(f'{test_images_root}/{i}.png', './aptos2019/test/diagnosis1/{}.png'.format(i))\n",
    "    \n",
    "for i in diagnosis2_test:\n",
    "    shutil.copy(f'{test_images_root}/{i}.png', './aptos2019/test/diagnosis2/{}.png'.format(i))\n",
    "    \n",
    "for i in diagnosis3_test:\n",
    "    shutil.copy(f'{test_images_root}/{i}.png', './aptos2019/test/diagnosis3/{}.png'.format(i))\n",
    "    \n",
    "for i in diagnosis4_test:\n",
    "    shutil.copy(f'{test_images_root}/{i}.png', './aptos2019/test/diagnosis4/{}.png'.format(i))"
   ]
  },
  {
   "cell_type": "code",
   "execution_count": 22,
   "id": "5b40323b",
   "metadata": {},
   "outputs": [
    {
     "name": "stdout",
     "output_type": "stream",
     "text": [
      "1444 296 799 154 236\n",
      "361 74 200 39 59\n"
     ]
    }
   ],
   "source": [
    "print(len(diagnosis0_train), len(diagnosis1_train), len(diagnosis2_train), len(diagnosis3_train), len(diagnosis4_train))\n",
    "print(len(diagnosis0_val), len(diagnosis1_val), len(diagnosis2_val), len(diagnosis3_val), len(diagnosis4_val))"
   ]
  },
  {
   "cell_type": "code",
   "execution_count": 23,
   "id": "d809f66e",
   "metadata": {},
   "outputs": [
    {
     "name": "stdout",
     "output_type": "stream",
     "text": [
      "915 209 538 102 164\n"
     ]
    }
   ],
   "source": [
    "print(len(diagnosis0_test), len(diagnosis1_test), len(diagnosis2_test), len(diagnosis3_test), len(diagnosis4_test))"
   ]
  },
  {
   "cell_type": "code",
   "execution_count": null,
   "id": "7e1f24ff",
   "metadata": {},
   "outputs": [],
   "source": []
  }
 ],
 "metadata": {
  "environment": {
   "kernel": "python3",
   "name": "common-cu110.m91",
   "type": "gcloud",
   "uri": "gcr.io/deeplearning-platform-release/base-cu110:m91"
  },
  "kernelspec": {
   "display_name": "Python 3 (ipykernel)",
   "language": "python",
   "name": "python3"
  },
  "language_info": {
   "codemirror_mode": {
    "name": "ipython",
    "version": 3
   },
   "file_extension": ".py",
   "mimetype": "text/x-python",
   "name": "python",
   "nbconvert_exporter": "python",
   "pygments_lexer": "ipython3",
   "version": "3.7.5"
  }
 },
 "nbformat": 4,
 "nbformat_minor": 5
}
